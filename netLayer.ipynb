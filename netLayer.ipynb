{
 "cells": [
  {
   "cell_type": "code",
   "execution_count": 2,
   "metadata": {},
   "outputs": [],
   "source": [
    "import numpy as np\n",
    "import activateFunction as acFunc\n",
    "\n",
    "class netLayer():\n",
    "    def __init__(self, layerMode, numNode, activeMode):\n",
    "        if layerMode == \"FC\":\n",
    "            self.numNode = numNode\n",
    "            self.activeMode = activeMode\n",
    "            self.activeFunc = acFunc.activateFunc(self.activeMode)\n",
    "            self.gradActive = acFunc.gradActivate(self.activeMode)\n",
    "    "
   ]
  }
 ],
 "metadata": {
  "kernelspec": {
   "display_name": "Python 3",
   "language": "python",
   "name": "python3"
  },
  "language_info": {
   "codemirror_mode": {
    "name": "ipython",
    "version": 3
   },
   "file_extension": ".py",
   "mimetype": "text/x-python",
   "name": "python",
   "nbconvert_exporter": "python",
   "pygments_lexer": "ipython3",
   "version": "3.8.3"
  }
 },
 "nbformat": 4,
 "nbformat_minor": 4
}
