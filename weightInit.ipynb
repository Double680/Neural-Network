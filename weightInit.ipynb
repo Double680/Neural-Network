{
 "cells": [
  {
   "cell_type": "code",
   "execution_count": 30,
   "metadata": {},
   "outputs": [],
   "source": [
    "import numpy as np\n",
    "\n",
    "def weightInit(numInput, numOutput, initMode, distribution=\"normal\", submode=\"inputNode\"):\n",
    "    if initMode == \"zero\":\n",
    "        W = np.zeros((numInput, numOutput))\n",
    "        \n",
    "    elif initMode == \"random\":\n",
    "        tmp = np.sqrt( 1 / numInput )\n",
    "        W = np.random.normal(0, np.sqrt(tmp), W.shape)         \n",
    "            \n",
    "        if distribution == \"uniform\":\n",
    "            W = np.random.uniform(-tmp, tmp, W.shape)\n",
    "            \n",
    "    elif initMode == \"Xavier\":\n",
    "        tmp = np.sqrt( 2 / ( numInput + numOutput ) )\n",
    "        W = np.random.normal(0, np.sqrt(tmp), (numInput, numOutput))\n",
    "        \n",
    "        if distribution == \"uniform\":\n",
    "            tmp = np.sqrt( 6 / ( numInput + numOutput ) )\n",
    "            W = np.random.uniform(-tmp, tmp, (numInput, numOutput))\n",
    "            \n",
    "    elif initMode == \"He\":\n",
    "        n = numInput\n",
    "        \n",
    "        if submode == \"outputNode\":\n",
    "            n = numOutput\n",
    "            \n",
    "        tmp = np.sqrt( 2 / n )\n",
    "        W = np.random.normal(0, np.sqrt(tmp), (numInput, numOutput))\n",
    "        \n",
    "        if distribution == \"uniform\":\n",
    "            tmp = np.sqrt( 6 / n )\n",
    "            W = np.random.uniform(-tmp, tmp, (numInput, numOutput))\n",
    "            \n",
    "    return W\n"
   ]
  }
 ],
 "metadata": {
  "kernelspec": {
   "display_name": "Python 3",
   "language": "python",
   "name": "python3"
  },
  "language_info": {
   "codemirror_mode": {
    "name": "ipython",
    "version": 3
   },
   "file_extension": ".py",
   "mimetype": "text/x-python",
   "name": "python",
   "nbconvert_exporter": "python",
   "pygments_lexer": "ipython3",
   "version": "3.8.3"
  }
 },
 "nbformat": 4,
 "nbformat_minor": 4
}
