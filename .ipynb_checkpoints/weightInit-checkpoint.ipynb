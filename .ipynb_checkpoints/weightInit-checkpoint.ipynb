{
 "cells": [
  {
   "cell_type": "code",
   "execution_count": 18,
   "metadata": {},
   "outputs": [],
   "source": [
    "import numpy as np\n",
    "\n",
    "def weightInit(numInput, numOutput, initMode, distribution=\"normal\", submode=\"inputNode\"):\n",
    "    if initMode == \"zero\":\n",
    "        W = np.zeros((numInput, numOutput))\n",
    "        \n",
    "    elif initMode == \"random\":\n",
    "        tmp = np.sqrt( 1 / numInput )\n",
    "        W = np.random.normal(0, np.sqrt(tmp), W.shape)         \n",
    "            \n",
    "        if distribution == \"uniform\":\n",
    "            W = np.random.uniform(-tmp, tmp, W.shape)\n",
    "            \n",
    "    elif initMode == \"Xavier\":\n",
    "        tmp = np.sqrt( 2 / ( numInput + numOutput ) )\n",
    "        W = np.random.normal(0, np.sqrt(tmp), W.shape)\n",
    "        \n",
    "        if distribution == \"uniform\":\n",
    "            tmp = np.sqrt( 6 / ( W.shape[0] + W.shape[1] ) )\n",
    "            W = np.random.uniform(-tmp, tmp, W.shape)\n",
    "            \n",
    "    elif initMode == \"He\":\n",
    "        n = W.shape[0]\n",
    "        \n",
    "        if submode == \"outputNode\":\n",
    "            n = W.shape[1]\n",
    "            \n",
    "        tmp = np.sqrt( 2 / n )\n",
    "        W = np.random.normal(0, np.sqrt(tmp), W.shape)\n",
    "        \n",
    "        if distribution == \"uniform\":\n",
    "            tmp = np.sqrt( 6 / n )\n",
    "            W = np.random.uniform(-tmp, tmp, W.shape)\n",
    "            \n",
    "    return W\n"
   ]
  },
  {
   "cell_type": "code",
   "execution_count": 29,
   "metadata": {},
   "outputs": [
    {
     "data": {
      "text/plain": [
       "array([[ 0.58651574, -1.35454644, -1.22947841,  0.13465865],\n",
       "       [ 0.66030354, -1.03849766, -0.09583552, -0.14129785],\n",
       "       [-0.07664057,  1.4669882 , -1.11042612, -0.45538726]])"
      ]
     },
     "execution_count": 29,
     "metadata": {},
     "output_type": "execute_result"
    }
   ],
   "source": []
  }
 ],
 "metadata": {
  "kernelspec": {
   "display_name": "Python 3",
   "language": "python",
   "name": "python3"
  },
  "language_info": {
   "codemirror_mode": {
    "name": "ipython",
    "version": 3
   },
   "file_extension": ".py",
   "mimetype": "text/x-python",
   "name": "python",
   "nbconvert_exporter": "python",
   "pygments_lexer": "ipython3",
   "version": "3.8.3"
  }
 },
 "nbformat": 4,
 "nbformat_minor": 4
}
