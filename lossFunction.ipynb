{
 "cells": [
  {
   "cell_type": "code",
   "execution_count": 3,
   "metadata": {},
   "outputs": [],
   "source": [
    "import numpy as np\n",
    "\n",
    "# \"mode\" can be value of \"reg\", \"biC\", \"mulC\"\n",
    "# \"a\", \"y\" SHOULD be 2D-numpy array in size of (n, p) = (number of samples, number of features)\n",
    "# \"loss\" is 1D-numpy array in size of n = number of samples\n",
    "# \"z\" SHOULD be 2D-numpy array in size of (n, p) = (number of samples, number of features)\n",
    "\n",
    "def lossFunc(mode):\n",
    "    def lossReg(a, y):\n",
    "        loss = np.sum( (a - y)**2, axis=1) / 2\n",
    "        return loss\n",
    "    \n",
    "    def lossBiC(a, y):\n",
    "        loss = np.sum( -(y*np.log(a) + (1-y)*np.log(1-a) ), axis=1)\n",
    "        return loss\n",
    "    \n",
    "    def lossMulC(a, y):\n",
    "        loss = np.sum( -y*np.log(a), axis=1)\n",
    "        return loss\n",
    "    \n",
    "    if mode == \"reg\":\n",
    "        return lossReg\n",
    "    elif mode == \"biC\":\n",
    "        return lossBiC\n",
    "    elif mode == \"mulC\":\n",
    "        return lossMulC\n",
    "    \n",
    "def predictFunc(mode): \n",
    "    def noChange(z):\n",
    "        a = z\n",
    "        return a\n",
    "    \n",
    "    def logistic(z):\n",
    "        a = 1 / ( 1 + np.exp(-z) )\n",
    "        return a\n",
    "    \n",
    "    def softmax(z):\n",
    "        tmp = np.sum( np.exp(z), axis=1)\n",
    "        a = np.exp(z) / tmp.reshape(tmp.shape[0], 1)\n",
    "        return a\n",
    "    \n",
    "    if mode == \"reg\":\n",
    "        return noChange\n",
    "    elif mode == \"biC\":\n",
    "        return logistic\n",
    "    elif mode == \"mulC\":\n",
    "        return softmax    \n",
    "    "
   ]
  }
 ],
 "metadata": {
  "kernelspec": {
   "display_name": "Python 3",
   "language": "python",
   "name": "python3"
  },
  "language_info": {
   "codemirror_mode": {
    "name": "ipython",
    "version": 3
   },
   "file_extension": ".py",
   "mimetype": "text/x-python",
   "name": "python",
   "nbconvert_exporter": "python",
   "pygments_lexer": "ipython3",
   "version": "3.8.3"
  }
 },
 "nbformat": 4,
 "nbformat_minor": 4
}
